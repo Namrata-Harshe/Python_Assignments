{
 "cells": [
  {
   "cell_type": "markdown",
   "id": "04609579",
   "metadata": {},
   "source": [
    "# Write a Python function to sum all the numbers in a list.\n",
    "\n",
    "\n",
    "\n",
    "Sample List : (8, 2, 3, 0, 7)\n",
    "\n",
    "Expected Output : 20\n",
    "\n",
    "\n",
    "\n",
    "Explanation:\n",
    "\n",
    "\n",
    "\n",
    "Summation should like 8+2+3+0+7 = 20"
   ]
  },
  {
   "cell_type": "code",
   "execution_count": 9,
   "id": "eecca4cc",
   "metadata": {},
   "outputs": [
    {
     "data": {
      "text/plain": [
       "20"
      ]
     },
     "execution_count": 9,
     "metadata": {},
     "output_type": "execute_result"
    }
   ],
   "source": [
    "def add(l):\n",
    "    summation=0\n",
    "    for i in l:\n",
    "        summation+=i\n",
    "    return summation\n",
    "add((8, 2, 3, 0, 7))"
   ]
  },
  {
   "cell_type": "code",
   "execution_count": null,
   "id": "69639fef",
   "metadata": {},
   "outputs": [],
   "source": []
  }
 ],
 "metadata": {
  "kernelspec": {
   "display_name": "Python 3",
   "language": "python",
   "name": "python3"
  },
  "language_info": {
   "codemirror_mode": {
    "name": "ipython",
    "version": 3
   },
   "file_extension": ".py",
   "mimetype": "text/x-python",
   "name": "python",
   "nbconvert_exporter": "python",
   "pygments_lexer": "ipython3",
   "version": "3.8.8"
  }
 },
 "nbformat": 4,
 "nbformat_minor": 5
}
