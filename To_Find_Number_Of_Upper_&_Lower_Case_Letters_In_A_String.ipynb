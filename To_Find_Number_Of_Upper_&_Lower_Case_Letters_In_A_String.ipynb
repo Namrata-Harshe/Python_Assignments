{
 "cells": [
  {
   "cell_type": "markdown",
   "id": "c5701a63",
   "metadata": {},
   "source": [
    "# Write a Python function that accepts a string and calculate the number of upper case letters and lower case letters.\n",
    "\n",
    "\n",
    "\n",
    "Sample String : 'The quick Brow Fox'\n",
    "\n",
    "Expected Output :\n",
    "\n",
    "No. of Upper case characters : 3\n",
    "\n",
    "No. of Lower case Characters : 12"
   ]
  },
  {
   "cell_type": "code",
   "execution_count": 14,
   "id": "b3d225ef",
   "metadata": {},
   "outputs": [
    {
     "name": "stdout",
     "output_type": "stream",
     "text": [
      "No. of Upper case characters : 3 \n",
      "\n",
      "No. of Lower case characters : 12\n"
     ]
    }
   ],
   "source": [
    "def u_l(string):\n",
    "    u_count=0\n",
    "    l_count=0\n",
    "    for i in string:\n",
    "        if ord(i)>=65 and ord(i)<=90:\n",
    "            u_count+=1\n",
    "        elif ord(i)>=97 and ord(i)<=122:\n",
    "            l_count+=1\n",
    "    print(\"No. of Upper case characters :\",u_count,\"\\n\")\n",
    "    print(\"No. of Lower case characters :\",l_count)\n",
    "u_l(\"The quick Brow Fox\")"
   ]
  }
 ],
 "metadata": {
  "kernelspec": {
   "display_name": "Python 3",
   "language": "python",
   "name": "python3"
  },
  "language_info": {
   "codemirror_mode": {
    "name": "ipython",
    "version": 3
   },
   "file_extension": ".py",
   "mimetype": "text/x-python",
   "name": "python",
   "nbconvert_exporter": "python",
   "pygments_lexer": "ipython3",
   "version": "3.8.8"
  }
 },
 "nbformat": 4,
 "nbformat_minor": 5
}
